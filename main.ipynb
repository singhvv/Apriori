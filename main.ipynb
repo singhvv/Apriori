{
 "cells": [
  {
   "cell_type": "code",
   "execution_count": 254,
   "metadata": {},
   "outputs": [],
   "source": [
    "import random\n",
    "\n",
    "# Define the database sizes\n",
    "D1K_SIZE = 1000\n",
    "D10K_SIZE = 10000\n",
    "D50K_SIZE = 50000\n",
    "D100K_SIZE = 100000"
   ]
  },
  {
   "cell_type": "code",
   "execution_count": 255,
   "metadata": {},
   "outputs": [],
   "source": [
    "\n",
    "# Define the database file names\n",
    "D1K_FILE = \"D1K.txt\"\n",
    "D10K_FILE = \"D10K.txt\"\n",
    "D50K_FILE = \"D50K.txt\"\n",
    "D100K_FILE = \"D100K.txt\"\n"
   ]
  },
  {
   "cell_type": "code",
   "execution_count": 256,
   "metadata": {},
   "outputs": [],
   "source": [
    "\n",
    "# Define the function to generate a random transaction\n",
    "def gen_transaction(num):\n",
    "    transaction = []\n",
    "    for i in range(num):\n",
    "        # Generate a random item index between 0 and 99\n",
    "        item_index = random.randint(0, 99)\n",
    "        transaction.append(item_index)\n",
    "    return transaction\n"
   ]
  },
  {
   "cell_type": "code",
   "execution_count": 257,
   "metadata": {},
   "outputs": [],
   "source": [
    "\n",
    "# Define the function to generate a transactional database\n",
    "def gen_database(file_name, db_size):\n",
    "    with open(file_name, 'w') as db_file:\n",
    "        for i in range(db_size):\n",
    "            # Generate a random transaction size between 5 and 15\n",
    "            transaction_size = random.randint(5, 15)\n",
    "            # Generate a random transaction and write it to the file\n",
    "            transaction = gen_transaction(transaction_size)\n",
    "            db_file.write(\" \".join([f\"i{item}\" for item in transaction]) + \"\\n\")\n"
   ]
  },
  {
   "cell_type": "code",
   "execution_count": 258,
   "metadata": {},
   "outputs": [],
   "source": [
    "\n",
    "# Generate the four transactional databases\n",
    "gen_database(D1K_FILE, D1K_SIZE)\n",
    "gen_database(D10K_FILE, D10K_SIZE)\n",
    "gen_database(D50K_FILE, D50K_SIZE)\n",
    "gen_database(D100K_FILE, D100K_SIZE)\n",
    "\n"
   ]
  },
  {
   "cell_type": "code",
   "execution_count": 259,
   "metadata": {},
   "outputs": [],
   "source": [
    "\n",
    "from collections import defaultdict\n",
    "from itertools import combinations\n",
    "\n",
    "# Define a function to read a transactional database from a file\n",
    "def read_database(file_name):\n",
    "    with open(file_name, 'r') as db_file:\n",
    "        transactions = [set(line.strip().split()) for line in db_file]\n",
    "    return transactions"
   ]
  },
  {
   "cell_type": "code",
   "execution_count": 260,
   "metadata": {},
   "outputs": [],
   "source": [
    "# Define the Apriori algorithm function\n",
    "def apriori(db, min_support):\n",
    "    # Step 1: Find frequent 1-itemsets\n",
    "    item_counts = defaultdict(int)\n",
    "    for transaction in db:\n",
    "        for item in transaction:\n",
    "            item_counts[item] += 1\n",
    "    num_transactions = len(db)\n",
    "    freq_k_itemsets = {frozenset([item]): count / num_transactions for item, count in item_counts.items() if count / num_transactions >= min_support}\n",
    "    frequent_itemsets = freq_k_itemsets\n",
    "    # Step 2: Generate k-itemsets and find frequent ones until no more frequent itemsets are found\n",
    "    k = 1\n",
    "    while len(freq_k_itemsets) > 0:\n",
    "        k += 1\n",
    "        # Generate candidate k-itemsets from frequent (k-1)-itemsets\n",
    "        candidate_itemsets = set([itemset1.union(itemset2) for itemset1 in frequent_itemsets for itemset2 in frequent_itemsets if len(itemset1.union(itemset2)) == k])\n",
    "        # Count the support of each candidate itemset\n",
    "        item_counts = defaultdict(int)\n",
    "        for transaction in db:\n",
    "            for candidate_itemset in candidate_itemsets:\n",
    "                if candidate_itemset.issubset(transaction):\n",
    "                    item_counts[candidate_itemset] += 1\n",
    "        # Find frequent k-itemsets\n",
    "        freq_k_itemsets = {itemset: count / num_transactions for itemset, count in item_counts.items() if count / num_transactions >= min_support}\n",
    "        frequent_itemsets.update(freq_k_itemsets)\n",
    "    return frequent_itemsets, k\n",
    "# db = read_database('D1K.txt')\n",
    "# frequent_itemsets = apriori(db, 0.01)"
   ]
  },
  {
   "cell_type": "code",
   "execution_count": 261,
   "metadata": {},
   "outputs": [],
   "source": [
    "# Define a function to write frequent itemsets to a file\n",
    "def write_frequent_itemsets(file_name, frequent_itemsets):\n",
    "    with open(file_name, 'w') as freq_file:\n",
    "        for itemset, support in frequent_itemsets.items():\n",
    "            freq_file.write(\"{\" + \", \".join([f\"i{item}\" for item in itemset]) + \"} \" + f\"{support:.2%}\\n\")\n"
   ]
  },
  {
   "cell_type": "code",
   "execution_count": 307,
   "metadata": {},
   "outputs": [],
   "source": [
    "# Define the main function to run the Apriori algorithm on a database and save frequent itemsets to a file\n",
    "def main(db_file_name, min_support, apriori_fn=apriori):\n",
    "    print(\"1\", db_file_name)\n",
    "    db = read_database(db_file_name)\n",
    "    frequent_itemsets, k = apriori_fn(db, min_support)\n",
    "    print(f'k = {k-1}')\n",
    "    freq_file_name = db_file_name.replace(\".txt\", f\"_AprioriAlgo_{apriori_fn.__name__}_{int(min_support*10000)}.freq\")\n",
    "    write_frequent_itemsets(freq_file_name, frequent_itemsets)\n",
    "    print(f\"Number of itemsets found: {len(frequent_itemsets)}\\n\")\n"
   ]
  },
  {
   "attachments": {},
   "cell_type": "markdown",
   "metadata": {},
   "source": [
    "---"
   ]
  },
  {
   "attachments": {},
   "cell_type": "markdown",
   "metadata": {},
   "source": [
    "### min_support = 8%"
   ]
  },
  {
   "cell_type": "code",
   "execution_count": 310,
   "metadata": {},
   "outputs": [
    {
     "name": "stdout",
     "output_type": "stream",
     "text": [
      "1 D1K.txt\n",
      "k = 1\n",
      "Number of itemsets found: 98\n",
      "\n"
     ]
    }
   ],
   "source": [
    "main(\"D1K.txt\", 0.08)"
   ]
  },
  {
   "cell_type": "code",
   "execution_count": 311,
   "metadata": {},
   "outputs": [
    {
     "name": "stdout",
     "output_type": "stream",
     "text": [
      "1 D10K.txt\n",
      "k = 1\n",
      "Number of itemsets found: 100\n",
      "\n"
     ]
    }
   ],
   "source": [
    "main(\"D10K.txt\", 0.08)"
   ]
  },
  {
   "cell_type": "code",
   "execution_count": 312,
   "metadata": {},
   "outputs": [
    {
     "name": "stdout",
     "output_type": "stream",
     "text": [
      "1 D50K.txt\n",
      "k = 1\n",
      "Number of itemsets found: 100\n",
      "\n"
     ]
    }
   ],
   "source": [
    "main(\"D50K.txt\", 0.08)"
   ]
  },
  {
   "cell_type": "code",
   "execution_count": 313,
   "metadata": {},
   "outputs": [
    {
     "name": "stdout",
     "output_type": "stream",
     "text": [
      "1 D100K.txt\n",
      "k = 1\n",
      "Number of itemsets found: 100\n",
      "\n"
     ]
    }
   ],
   "source": [
    "main(\"D100K.txt\", 0.08)"
   ]
  },
  {
   "attachments": {},
   "cell_type": "markdown",
   "metadata": {},
   "source": [
    "---"
   ]
  },
  {
   "attachments": {},
   "cell_type": "markdown",
   "metadata": {},
   "source": [
    "### min_support = 9.5%"
   ]
  },
  {
   "cell_type": "code",
   "execution_count": 314,
   "metadata": {},
   "outputs": [
    {
     "name": "stdout",
     "output_type": "stream",
     "text": [
      "1 D1K.txt\n",
      "k = 1\n",
      "Number of itemsets found: 55\n",
      "\n"
     ]
    }
   ],
   "source": [
    "main(\"D1K.txt\", 0.095)"
   ]
  },
  {
   "cell_type": "code",
   "execution_count": 315,
   "metadata": {},
   "outputs": [
    {
     "name": "stdout",
     "output_type": "stream",
     "text": [
      "1 D10K.txt\n",
      "k = 1\n",
      "Number of itemsets found: 47\n",
      "\n"
     ]
    }
   ],
   "source": [
    "main(\"D10K.txt\", 0.095)"
   ]
  },
  {
   "cell_type": "code",
   "execution_count": 316,
   "metadata": {},
   "outputs": [
    {
     "name": "stdout",
     "output_type": "stream",
     "text": [
      "1 D50K.txt\n",
      "k = 1\n",
      "Number of itemsets found: 58\n",
      "\n"
     ]
    }
   ],
   "source": [
    "main(\"D50K.txt\", 0.095)"
   ]
  },
  {
   "cell_type": "code",
   "execution_count": 317,
   "metadata": {},
   "outputs": [
    {
     "name": "stdout",
     "output_type": "stream",
     "text": [
      "1 D100K.txt\n",
      "k = 1\n",
      "Number of itemsets found: 62\n",
      "\n"
     ]
    }
   ],
   "source": [
    "main(\"D100K.txt\", 0.095)"
   ]
  },
  {
   "attachments": {},
   "cell_type": "markdown",
   "metadata": {},
   "source": [
    "---"
   ]
  },
  {
   "attachments": {},
   "cell_type": "markdown",
   "metadata": {},
   "source": [
    "### min_support = 9.6%"
   ]
  },
  {
   "cell_type": "code",
   "execution_count": 318,
   "metadata": {},
   "outputs": [
    {
     "name": "stdout",
     "output_type": "stream",
     "text": [
      "1 D1K.txt\n",
      "k = 1\n",
      "Number of itemsets found: 50\n",
      "\n"
     ]
    }
   ],
   "source": [
    "main(\"D1K.txt\", 0.096)"
   ]
  },
  {
   "cell_type": "code",
   "execution_count": 319,
   "metadata": {},
   "outputs": [
    {
     "name": "stdout",
     "output_type": "stream",
     "text": [
      "1 D10K.txt\n",
      "k = 1\n",
      "Number of itemsets found: 35\n",
      "\n"
     ]
    }
   ],
   "source": [
    "main(\"D10K.txt\", 0.096)"
   ]
  },
  {
   "cell_type": "code",
   "execution_count": 320,
   "metadata": {},
   "outputs": [
    {
     "name": "stdout",
     "output_type": "stream",
     "text": [
      "1 D50K.txt\n",
      "k = 1\n",
      "Number of itemsets found: 27\n",
      "\n"
     ]
    }
   ],
   "source": [
    "main(\"D50K.txt\", 0.096)"
   ]
  },
  {
   "cell_type": "code",
   "execution_count": 321,
   "metadata": {},
   "outputs": [
    {
     "name": "stdout",
     "output_type": "stream",
     "text": [
      "1 D100K.txt\n",
      "k = 1\n",
      "Number of itemsets found: 15\n",
      "\n"
     ]
    }
   ],
   "source": [
    "main(\"D100K.txt\", 0.096)"
   ]
  },
  {
   "attachments": {},
   "cell_type": "markdown",
   "metadata": {},
   "source": [
    "---"
   ]
  },
  {
   "attachments": {},
   "cell_type": "markdown",
   "metadata": {},
   "source": [
    "### min_support = 9.7%"
   ]
  },
  {
   "cell_type": "code",
   "execution_count": 322,
   "metadata": {},
   "outputs": [
    {
     "name": "stdout",
     "output_type": "stream",
     "text": [
      "1 D1K.txt\n",
      "k = 1\n",
      "Number of itemsets found: 48\n",
      "\n"
     ]
    }
   ],
   "source": [
    "main(\"D1K.txt\", 0.097)"
   ]
  },
  {
   "cell_type": "code",
   "execution_count": 323,
   "metadata": {},
   "outputs": [
    {
     "name": "stdout",
     "output_type": "stream",
     "text": [
      "1 D10K.txt\n",
      "k = 1\n",
      "Number of itemsets found: 22\n",
      "\n"
     ]
    }
   ],
   "source": [
    "main(\"D10K.txt\", 0.097)"
   ]
  },
  {
   "cell_type": "code",
   "execution_count": 324,
   "metadata": {},
   "outputs": [
    {
     "name": "stdout",
     "output_type": "stream",
     "text": [
      "1 D50K.txt\n",
      "k = 1\n",
      "Number of itemsets found: 4\n",
      "\n"
     ]
    }
   ],
   "source": [
    "main(\"D50K.txt\", 0.097)"
   ]
  },
  {
   "cell_type": "code",
   "execution_count": 325,
   "metadata": {},
   "outputs": [
    {
     "name": "stdout",
     "output_type": "stream",
     "text": [
      "1 D100K.txt\n",
      "k = 1\n",
      "Number of itemsets found: 2\n",
      "\n"
     ]
    }
   ],
   "source": [
    "main(\"D100K.txt\", 0.097)"
   ]
  },
  {
   "attachments": {},
   "cell_type": "markdown",
   "metadata": {},
   "source": [
    "---"
   ]
  },
  {
   "attachments": {},
   "cell_type": "markdown",
   "metadata": {},
   "source": [
    "### min_support = 9.75%"
   ]
  },
  {
   "cell_type": "code",
   "execution_count": 326,
   "metadata": {},
   "outputs": [
    {
     "name": "stdout",
     "output_type": "stream",
     "text": [
      "1 D1K.txt\n",
      "k = 1\n",
      "Number of itemsets found: 41\n",
      "\n"
     ]
    }
   ],
   "source": [
    "main(\"D1K.txt\", 0.0975)"
   ]
  },
  {
   "cell_type": "code",
   "execution_count": 327,
   "metadata": {},
   "outputs": [
    {
     "name": "stdout",
     "output_type": "stream",
     "text": [
      "1 D10K.txt\n",
      "k = 1\n",
      "Number of itemsets found: 15\n",
      "\n"
     ]
    }
   ],
   "source": [
    "main(\"D10K.txt\", 0.0975)"
   ]
  },
  {
   "cell_type": "code",
   "execution_count": 328,
   "metadata": {},
   "outputs": [
    {
     "name": "stdout",
     "output_type": "stream",
     "text": [
      "1 D50K.txt\n",
      "k = 1\n",
      "Number of itemsets found: 3\n",
      "\n"
     ]
    }
   ],
   "source": [
    "main(\"D50K.txt\", 0.0975)"
   ]
  },
  {
   "cell_type": "code",
   "execution_count": 329,
   "metadata": {},
   "outputs": [
    {
     "name": "stdout",
     "output_type": "stream",
     "text": [
      "1 D100K.txt\n",
      "k = 1\n",
      "Number of itemsets found: 1\n",
      "\n"
     ]
    }
   ],
   "source": [
    "main(\"D100K.txt\", 0.0975)"
   ]
  },
  {
   "attachments": {},
   "cell_type": "markdown",
   "metadata": {},
   "source": [
    "---\n",
    "---"
   ]
  },
  {
   "attachments": {},
   "cell_type": "markdown",
   "metadata": {},
   "source": [
    "# Idea1"
   ]
  },
  {
   "cell_type": "code",
   "execution_count": 330,
   "metadata": {},
   "outputs": [],
   "source": [
    "# Define the Apriori algorithm function\n",
    "def apriori_idea1(db, min_support):\n",
    "    # Step 1: Find frequent 1-itemsets\n",
    "    item_counts = defaultdict(int)\n",
    "    for transaction in db:\n",
    "        for item in transaction:\n",
    "            item_counts[item] += 1\n",
    "    num_transactions = len(db)\n",
    "    freq_k_itemsets_all = {frozenset([item]): count / num_transactions for item, count in item_counts.items()}\n",
    "    freq_k_itemsets = {frozenset([item]): count / num_transactions for item, count in item_counts.items() if count / num_transactions >= min_support}\n",
    "    db_all_freq1 = []  # db with all transactions with freq itemset\n",
    "    for transaction in db:\n",
    "        satisfy_supp = False\n",
    "        for it in transaction:\n",
    "            if freq_k_itemsets_all[frozenset({it})] >= min_support:\n",
    "                satisfy_supp = True\n",
    "        if satisfy_supp:\n",
    "            db_all_freq1.append(transaction)\n",
    "            \n",
    "    \n",
    "    ########\n",
    "    print(len(db), len(db_all_freq1))\n",
    "    item_counts = defaultdict(int)\n",
    "    for transaction in db_all_freq1:\n",
    "        for item in transaction:\n",
    "            item_counts[item] += 1\n",
    "    num_transactions = len(db_all_freq1)\n",
    "    freq_k_itemsets = {frozenset([item]): count / num_transactions for item, count in item_counts.items() if count / num_transactions >= min_support}\n",
    "    ########\n",
    "\n",
    "    frequent_itemsets = freq_k_itemsets\n",
    "    # Step 2: Generate k-itemsets and find frequent ones until no more frequent itemsets are found\n",
    "    k = 1\n",
    "    while len(freq_k_itemsets) > 0:\n",
    "        k += 1\n",
    "\n",
    "        # Generate candidate k-itemsets from frequent (k-1)-itemsets\n",
    "        candidate_itemsets = set([itemset1.union(itemset2) for itemset1 in frequent_itemsets for itemset2 in frequent_itemsets if len(itemset1.union(itemset2)) == k])\n",
    "        # Count the support of each candidate itemset\n",
    "        item_counts = defaultdict(int)\n",
    "        for transaction in db_all_freq1:\n",
    "            for candidate_itemset in candidate_itemsets:\n",
    "                if candidate_itemset.issubset(transaction):\n",
    "                    item_counts[candidate_itemset] += 1\n",
    "        # Find frequent k-itemsets\n",
    "        freq_k_itemsets = {itemset: count / num_transactions for itemset, count in item_counts.items() if count / num_transactions >= min_support}\n",
    "        frequent_itemsets.update(freq_k_itemsets)\n",
    "\n",
    "    return frequent_itemsets, k"
   ]
  },
  {
   "attachments": {},
   "cell_type": "markdown",
   "metadata": {},
   "source": [
    "---"
   ]
  },
  {
   "attachments": {},
   "cell_type": "markdown",
   "metadata": {},
   "source": [
    "### min_support = 8%"
   ]
  },
  {
   "cell_type": "code",
   "execution_count": 331,
   "metadata": {},
   "outputs": [
    {
     "name": "stdout",
     "output_type": "stream",
     "text": [
      "1 D1K.txt\n",
      "1000 1000\n",
      "k = 1\n",
      "Number of itemsets found: 98\n",
      "\n"
     ]
    }
   ],
   "source": [
    "a1 = main('D1K.txt', 0.08, apriori_fn=apriori_idea1)\n",
    "a1\n"
   ]
  },
  {
   "cell_type": "code",
   "execution_count": 332,
   "metadata": {},
   "outputs": [
    {
     "name": "stdout",
     "output_type": "stream",
     "text": [
      "1 D10K.txt\n",
      "10000 10000\n",
      "k = 1\n",
      "Number of itemsets found: 100\n",
      "\n"
     ]
    }
   ],
   "source": [
    "b1 = main('D10K.txt', 0.08, apriori_fn=apriori_idea1)\n",
    "b1"
   ]
  },
  {
   "cell_type": "code",
   "execution_count": 333,
   "metadata": {},
   "outputs": [
    {
     "name": "stdout",
     "output_type": "stream",
     "text": [
      "1 D50K.txt\n",
      "50000 50000\n",
      "k = 1\n",
      "Number of itemsets found: 100\n",
      "\n"
     ]
    }
   ],
   "source": [
    "c1 = main('D50K.txt', 0.08, apriori_fn=apriori_idea1)\n",
    "c1"
   ]
  },
  {
   "cell_type": "code",
   "execution_count": 334,
   "metadata": {},
   "outputs": [
    {
     "name": "stdout",
     "output_type": "stream",
     "text": [
      "1 D100K.txt\n",
      "100000 100000\n",
      "k = 1\n",
      "Number of itemsets found: 100\n",
      "\n"
     ]
    }
   ],
   "source": [
    "d1 = main('D100K.txt', 0.08, apriori_fn=apriori_idea1)\n",
    "d1"
   ]
  },
  {
   "attachments": {},
   "cell_type": "markdown",
   "metadata": {},
   "source": [
    "---"
   ]
  },
  {
   "attachments": {},
   "cell_type": "markdown",
   "metadata": {},
   "source": [
    "### min_support = 9.5%"
   ]
  },
  {
   "cell_type": "code",
   "execution_count": 335,
   "metadata": {},
   "outputs": [
    {
     "name": "stdout",
     "output_type": "stream",
     "text": [
      "1 D1K.txt\n",
      "1000 1000\n",
      "k = 1\n",
      "Number of itemsets found: 55\n",
      "\n"
     ]
    }
   ],
   "source": [
    "a15 = main('D1K.txt', 0.095, apriori_fn=apriori_idea1)\n",
    "a15"
   ]
  },
  {
   "cell_type": "code",
   "execution_count": 336,
   "metadata": {},
   "outputs": [
    {
     "name": "stdout",
     "output_type": "stream",
     "text": [
      "1 D10K.txt\n",
      "10000 9920\n",
      "k = 1\n",
      "Number of itemsets found: 48\n",
      "\n"
     ]
    }
   ],
   "source": [
    "b15 = main('D10K.txt', 0.095, apriori_fn=apriori_idea1)\n",
    "b15"
   ]
  },
  {
   "cell_type": "code",
   "execution_count": 337,
   "metadata": {},
   "outputs": [
    {
     "name": "stdout",
     "output_type": "stream",
     "text": [
      "1 D50K.txt\n",
      "50000 49898\n",
      "k = 1\n",
      "Number of itemsets found: 58\n",
      "\n"
     ]
    }
   ],
   "source": [
    "c15 = main('D50K.txt', 0.095, apriori_fn=apriori_idea1)\n",
    "c15"
   ]
  },
  {
   "cell_type": "code",
   "execution_count": 338,
   "metadata": {},
   "outputs": [
    {
     "name": "stdout",
     "output_type": "stream",
     "text": [
      "1 D100K.txt\n",
      "100000 99898\n",
      "k = 1\n",
      "Number of itemsets found: 62\n",
      "\n"
     ]
    }
   ],
   "source": [
    "d15 = main('D100K.txt', 0.095, apriori_fn=apriori_idea1)\n",
    "d15"
   ]
  },
  {
   "attachments": {},
   "cell_type": "markdown",
   "metadata": {},
   "source": [
    "### min_support = 9.6%"
   ]
  },
  {
   "cell_type": "code",
   "execution_count": 339,
   "metadata": {},
   "outputs": [
    {
     "name": "stdout",
     "output_type": "stream",
     "text": [
      "1 D1K.txt\n",
      "1000 999\n",
      "k = 1\n",
      "Number of itemsets found: 50\n",
      "\n"
     ]
    }
   ],
   "source": [
    "a5 = main('D1K.txt', 0.096, apriori_fn=apriori_idea1)\n",
    "a5\n"
   ]
  },
  {
   "cell_type": "code",
   "execution_count": 340,
   "metadata": {},
   "outputs": [
    {
     "name": "stdout",
     "output_type": "stream",
     "text": [
      "1 D10K.txt\n",
      "10000 9727\n",
      "k = 1\n",
      "Number of itemsets found: 38\n",
      "\n"
     ]
    }
   ],
   "source": [
    "b5 = main('D10K.txt', 0.096, apriori_fn=apriori_idea1)\n",
    "b5"
   ]
  },
  {
   "cell_type": "code",
   "execution_count": 351,
   "metadata": {},
   "outputs": [
    {
     "name": "stdout",
     "output_type": "stream",
     "text": [
      "1 D50K.txt\n",
      "50000 46801\n",
      "k = 1\n",
      "Number of itemsets found: 32\n",
      "\n"
     ]
    }
   ],
   "source": [
    "c5 = main('D50K.txt', 0.096, apriori_fn=apriori_idea1)\n",
    "c5"
   ]
  },
  {
   "cell_type": "code",
   "execution_count": 352,
   "metadata": {},
   "outputs": [
    {
     "name": "stdout",
     "output_type": "stream",
     "text": [
      "1 D100K.txt\n",
      "100000 78096\n",
      "k = 1\n",
      "Number of itemsets found: 27\n",
      "\n"
     ]
    }
   ],
   "source": [
    "d5 = main('D100K.txt', 0.096, apriori_fn=apriori_idea1)\n",
    "d5"
   ]
  },
  {
   "attachments": {},
   "cell_type": "markdown",
   "metadata": {},
   "source": [
    "---"
   ]
  },
  {
   "attachments": {},
   "cell_type": "markdown",
   "metadata": {},
   "source": [
    "### min_support = 9.7%"
   ]
  },
  {
   "cell_type": "code",
   "execution_count": 343,
   "metadata": {},
   "outputs": [
    {
     "name": "stdout",
     "output_type": "stream",
     "text": [
      "1 D1K.txt\n",
      "1000 999\n",
      "k = 1\n",
      "Number of itemsets found: 48\n",
      "\n"
     ]
    }
   ],
   "source": [
    "a8 = main('D1K.txt', 0.097, apriori_fn=apriori_idea1)\n",
    "a8"
   ]
  },
  {
   "cell_type": "code",
   "execution_count": 344,
   "metadata": {},
   "outputs": [
    {
     "name": "stdout",
     "output_type": "stream",
     "text": [
      "1 D10K.txt\n",
      "10000 9029\n",
      "k = 1\n",
      "Number of itemsets found: 28\n",
      "\n"
     ]
    }
   ],
   "source": [
    "b8 = main('D10K.txt', 0.097, apriori_fn=apriori_idea1)\n",
    "b8\n"
   ]
  },
  {
   "cell_type": "code",
   "execution_count": 345,
   "metadata": {},
   "outputs": [
    {
     "name": "stdout",
     "output_type": "stream",
     "text": [
      "1 D50K.txt\n",
      "50000 16875\n",
      "k = 1\n",
      "Number of itemsets found: 21\n",
      "\n"
     ]
    }
   ],
   "source": [
    "c8 = main('D50K.txt', 0.097, apriori_fn=apriori_idea1)\n",
    "c8\n",
    "\n"
   ]
  },
  {
   "cell_type": "code",
   "execution_count": 346,
   "metadata": {},
   "outputs": [
    {
     "name": "stdout",
     "output_type": "stream",
     "text": [
      "1 D100K.txt\n",
      "100000 18509\n",
      "k = 1\n",
      "Number of itemsets found: 21\n",
      "\n"
     ]
    }
   ],
   "source": [
    "d8 = main('D100K.txt', 0.097, apriori_fn=apriori_idea1)\n",
    "d8"
   ]
  },
  {
   "attachments": {},
   "cell_type": "markdown",
   "metadata": {},
   "source": [
    "---"
   ]
  },
  {
   "attachments": {},
   "cell_type": "markdown",
   "metadata": {},
   "source": [
    "### min_support = 9.75%"
   ]
  },
  {
   "cell_type": "code",
   "execution_count": 347,
   "metadata": {},
   "outputs": [
    {
     "name": "stdout",
     "output_type": "stream",
     "text": [
      "1 D1K.txt\n",
      "1000 994\n",
      "k = 1\n",
      "Number of itemsets found: 42\n",
      "\n"
     ]
    }
   ],
   "source": [
    "a10 = main('D1K.txt', 0.0975, apriori_fn=apriori_idea1)\n",
    "a10\n"
   ]
  },
  {
   "cell_type": "code",
   "execution_count": 348,
   "metadata": {},
   "outputs": [
    {
     "name": "stdout",
     "output_type": "stream",
     "text": [
      "1 D10K.txt\n",
      "10000 7949\n",
      "k = 1\n",
      "Number of itemsets found: 23\n",
      "\n"
     ]
    }
   ],
   "source": [
    "b10 = main('D10K.txt', 0.0975, apriori_fn=apriori_idea1)\n",
    "b10\n"
   ]
  },
  {
   "cell_type": "code",
   "execution_count": 349,
   "metadata": {},
   "outputs": [
    {
     "name": "stdout",
     "output_type": "stream",
     "text": [
      "1 D50K.txt\n",
      "50000 13294\n",
      "k = 1\n",
      "Number of itemsets found: 21\n",
      "\n"
     ]
    }
   ],
   "source": [
    "c10 = main('D50K.txt', 0.0975, apriori_fn=apriori_idea1)\n",
    "c10\n",
    "\n"
   ]
  },
  {
   "cell_type": "code",
   "execution_count": 350,
   "metadata": {},
   "outputs": [
    {
     "name": "stdout",
     "output_type": "stream",
     "text": [
      "1 D100K.txt\n",
      "100000 9777\n",
      "k = 2\n",
      "Number of itemsets found: 47\n",
      "\n"
     ]
    }
   ],
   "source": [
    "d10 = main('D100K.txt', 0.0975, apriori_fn=apriori_idea1)\n",
    "d10"
   ]
  },
  {
   "attachments": {},
   "cell_type": "markdown",
   "metadata": {},
   "source": [
    "---"
   ]
  },
  {
   "attachments": {},
   "cell_type": "markdown",
   "metadata": {},
   "source": [
    "# fin"
   ]
  }
 ],
 "metadata": {
  "kernelspec": {
   "display_name": "Python 3",
   "language": "python",
   "name": "python3"
  },
  "language_info": {
   "codemirror_mode": {
    "name": "ipython",
    "version": 3
   },
   "file_extension": ".py",
   "mimetype": "text/x-python",
   "name": "python",
   "nbconvert_exporter": "python",
   "pygments_lexer": "ipython3",
   "version": "3.10.10"
  },
  "orig_nbformat": 4
 },
 "nbformat": 4,
 "nbformat_minor": 2
}
